{
 "cells": [
  {
   "cell_type": "markdown",
   "id": "ca411179-237e-4f6a-853c-3db4bae77d7c",
   "metadata": {},
   "source": [
    "# Predicting Diabetes Using Naive Bayes\n",
    "\n",
    "### Objective\n",
    "- Apply Naive Bayes for binary classification.\n",
    "- Practice data exploration and preprocessing.\n",
    "- Evaluate model performance using appropriate metrics.\n",
    "- Understand and interpret the log probabilities used in Naive Bayes.\n",
    "\n",
    "### Dataset\n",
    "This lab uses the Pima Indians Diabetes Dataset from the UCI Machine Learning Repository. It contains 8 features based on medical information, with a binary target indicating the presence of diabetes (1) or absence (0).\n",
    "\n",
    "### Features\n",
    "`Pregnancies`: Number of times pregnant\n",
    "`Glucose`: Plasma glucose concentration\n",
    "`BloodPressure`: Diastolic blood pressure (mm Hg)\n",
    "`SkinThickness`: Triceps skinfold thickness (mm)\n",
    "`Insulin`: 2-Hour serum insulin (mu U/ml)\n",
    "`BMI`: Body mass index (weight in kg/(height in m)^2)\n",
    "`DiabetesPedigreeFunction`: Diabetes pedigree function (a function based on family history)\n",
    "`Age`: Age (years)\n",
    "`Outcome`: Class variable (1 if patient has diabetes, 0 otherwise)"
   ]
  },
  {
   "cell_type": "markdown",
   "id": "a69ab905-df5a-4814-b608-85e0b9ce4522",
   "metadata": {},
   "source": [
    "### Import packages"
   ]
  },
  {
   "cell_type": "code",
   "execution_count": 1,
   "id": "b63f66cf-2fc1-4232-af50-527235c37374",
   "metadata": {},
   "outputs": [],
   "source": [
    "# Import the necessary libraries for data manipulation, model training, and evaluation.\n",
    "# your code here\n",
    "\n",
    "import pandas as pd\n",
    "import numpy as np\n",
    "from sklearn.model_selection import train_test_split\n",
    "from sklearn.naive_bayes import GaussianNB\n",
    "from sklearn.metrics import accuracy_score, classification_report, confusion_matrix\n",
    "import matplotlib.pyplot as plt\n",
    "import seaborn as sns"
   ]
  },
  {
   "cell_type": "markdown",
   "id": "ae8795d9-448e-442e-8825-2544731f44df",
   "metadata": {},
   "source": [
    "### Data Loading and Exploration"
   ]
  },
  {
   "cell_type": "code",
   "execution_count": null,
   "id": "e0540e43-06d2-4b2d-a36c-2ccc6ce47286",
   "metadata": {},
   "outputs": [
    {
     "name": "stdout",
     "output_type": "stream",
     "text": [
      "   Pregnancies  Glucose  BloodPressure  SkinThickness  Insulin   BMI  \\\n",
      "0            6      148             72             35        0  33.6   \n",
      "1            1       85             66             29        0  26.6   \n",
      "2            8      183             64              0        0  23.3   \n",
      "3            1       89             66             23       94  28.1   \n",
      "4            0      137             40             35      168  43.1   \n",
      "\n",
      "   DiabetesPedigreeFunction  Age  Outcome  \n",
      "0                     0.627   50        1  \n",
      "1                     0.351   31        0  \n",
      "2                     0.672   32        1  \n",
      "3                     0.167   21        0  \n",
      "4                     2.288   33        1  \n",
      "       Pregnancies     Glucose  BloodPressure  SkinThickness     Insulin  \\\n",
      "count   768.000000  768.000000     768.000000     768.000000  768.000000   \n",
      "mean      3.845052  120.894531      69.105469      20.536458   79.799479   \n",
      "std       3.369578   31.972618      19.355807      15.952218  115.244002   \n",
      "min       0.000000    0.000000       0.000000       0.000000    0.000000   \n",
      "25%       1.000000   99.000000      62.000000       0.000000    0.000000   \n",
      "50%       3.000000  117.000000      72.000000      23.000000   30.500000   \n",
      "75%       6.000000  140.250000      80.000000      32.000000  127.250000   \n",
      "max      17.000000  199.000000     122.000000      99.000000  846.000000   \n",
      "\n",
      "              BMI  DiabetesPedigreeFunction         Age     Outcome  \n",
      "count  768.000000                768.000000  768.000000  768.000000  \n",
      "mean    31.992578                  0.471876   33.240885    0.348958  \n",
      "std      7.884160                  0.331329   11.760232    0.476951  \n",
      "min      0.000000                  0.078000   21.000000    0.000000  \n",
      "25%     27.300000                  0.243750   24.000000    0.000000  \n",
      "50%     32.000000                  0.372500   29.000000    0.000000  \n",
      "75%     36.600000                  0.626250   41.000000    1.000000  \n",
      "max     67.100000                  2.420000   81.000000    1.000000  \n",
      "Pregnancies                 0\n",
      "Glucose                     0\n",
      "BloodPressure               0\n",
      "SkinThickness               0\n",
      "Insulin                     0\n",
      "BMI                         0\n",
      "DiabetesPedigreeFunction    0\n",
      "Age                         0\n",
      "Outcome                     0\n",
      "dtype: int64\n",
      "<class 'pandas.core.frame.DataFrame'>\n",
      "RangeIndex: 768 entries, 0 to 767\n",
      "Data columns (total 9 columns):\n",
      " #   Column                    Non-Null Count  Dtype  \n",
      "---  ------                    --------------  -----  \n",
      " 0   Pregnancies               768 non-null    int64  \n",
      " 1   Glucose                   768 non-null    int64  \n",
      " 2   BloodPressure             768 non-null    int64  \n",
      " 3   SkinThickness             768 non-null    int64  \n",
      " 4   Insulin                   768 non-null    int64  \n",
      " 5   BMI                       768 non-null    float64\n",
      " 6   DiabetesPedigreeFunction  768 non-null    float64\n",
      " 7   Age                       768 non-null    int64  \n",
      " 8   Outcome                   768 non-null    int64  \n",
      "dtypes: float64(2), int64(7)\n",
      "memory usage: 54.1 KB\n",
      "None\n"
     ]
    }
   ],
   "source": [
    "# Load the Pima Indiands Diabetes Dataset in the folder ../data and preview the data\n",
    "# Display summary statistics\n",
    "# your code here\n",
    "data = pd.read_csv('C:/Users/isabe/OneDrive/Документы/ironhack/LEaRNGIT/lab 27/lab-naive-bayes/data/pima_diabetes.csv')\n",
    "\n",
    "print(data.head())\n",
    "\n",
    "print(data.describe())\n",
    "\n",
    "print(data.isnull().sum())\n",
    "\n",
    "print(data.info())\n",
    "\n"
   ]
  },
  {
   "cell_type": "markdown",
   "id": "dceacc95-5238-46dd-bbe2-304cfce94133",
   "metadata": {},
   "source": [
    "### Data Cleaning\n",
    "\n",
    "1. *Handling Missing Values*: Replace 0 values in Glucose, BloodPressure, SkinThickness, Insulin, and BMI columns with their respective median values.\n",
    "2. *Split Data*: Separate the feature columns (X) and target (y), and then split into training and test sets with an 80-20 split."
   ]
  },
  {
   "cell_type": "code",
   "execution_count": null,
   "id": "7320c1cf-09b0-47ac-bd6a-3a3955e89f71",
   "metadata": {},
   "outputs": [
    {
     "name": "stdout",
     "output_type": "stream",
     "text": [
      "\n",
      "Summary Statistics after replacing 0 values:\n",
      "          Glucose  BloodPressure  SkinThickness     Insulin         BMI\n",
      "count  768.000000     768.000000     768.000000  768.000000  768.000000\n",
      "mean   121.656250      72.386719      27.334635   94.652344   32.450911\n",
      "std     30.438286      12.096642       9.229014  105.547598    6.875366\n",
      "min     44.000000      24.000000       7.000000   14.000000   18.200000\n",
      "25%     99.750000      64.000000      23.000000   30.500000   27.500000\n",
      "50%    117.000000      72.000000      23.000000   31.250000   32.000000\n",
      "75%    140.250000      80.000000      32.000000  127.250000   36.600000\n",
      "max    199.000000     122.000000      99.000000  846.000000   67.100000\n",
      "\n",
      "Size of Training Set: 614 samples\n",
      "Size of Testing Set: 154 samples\n"
     ]
    }
   ],
   "source": [
    "# your code here\n",
    "columns_to_replace = ['Glucose', 'BloodPressure', 'SkinThickness', 'Insulin', 'BMI']\n",
    "\n",
    "for column in columns_to_replace:\n",
    "    data[column] = data[column].replace(0, data[column].median())\n",
    "\n",
    "print(\"\\nSummary Statistics after replacing 0 values:\")\n",
    "print(data[columns_to_replace].describe())\n",
    "\n",
    "X = data.drop(columns=['Outcome'])  \n",
    "y = data['Outcome']  \n",
    "\n",
    "from sklearn.model_selection import train_test_split\n",
    "\n",
    "X_train, X_test, y_train, y_test = train_test_split(X, y, test_size=0.2, random_state=42)\n",
    "\n",
    "print(f\"\\nSize of Training Set: {X_train.shape[0]} samples\")\n",
    "print(f\"Size of Testing Set: {X_test.shape[0]} samples\")\n"
   ]
  },
  {
   "cell_type": "markdown",
   "id": "fa4e4bcc-7f24-4b93-9975-ec9f436c8c73",
   "metadata": {},
   "source": [
    "### Train a Naïve Bayes Classifier\n",
    "\n",
    "Since the features are continuous, we need to use the `GaussianNB` model instead of the ones we used so far for categorical variables"
   ]
  },
  {
   "cell_type": "code",
   "execution_count": null,
   "id": "0b94c06c-42c7-48e9-a82f-3087041deb51",
   "metadata": {},
   "outputs": [
    {
     "name": "stdout",
     "output_type": "stream",
     "text": [
      "Accuracy: 0.75\n",
      "\n",
      "Classification Report:\n",
      "              precision    recall  f1-score   support\n",
      "\n",
      "           0       0.82      0.79      0.80        99\n",
      "           1       0.64      0.69      0.67        55\n",
      "\n",
      "    accuracy                           0.75       154\n",
      "   macro avg       0.73      0.74      0.74       154\n",
      "weighted avg       0.76      0.75      0.76       154\n",
      "\n",
      "\n",
      "Confusion Matrix:\n",
      "[[78 21]\n",
      " [17 38]]\n"
     ]
    }
   ],
   "source": [
    "# your code here\n",
    "from sklearn.naive_bayes import GaussianNB\n",
    "\n",
    "model = GaussianNB()\n",
    "\n",
    "model.fit(X_train, y_train)\n",
    "\n",
    "y_pred = model.predict(X_test)\n",
    "\n",
    "from sklearn.metrics import accuracy_score, classification_report, confusion_matrix\n",
    "\n",
    "print(f\"Accuracy: {accuracy_score(y_test, y_pred):.2f}\")\n",
    "\n",
    "print(\"\\nClassification Report:\")\n",
    "print(classification_report(y_test, y_pred))\n",
    "\n",
    "print(\"\\nConfusion Matrix:\")\n",
    "print(confusion_matrix(y_test, y_pred))\n",
    "\n"
   ]
  },
  {
   "cell_type": "markdown",
   "id": "05a519ee-88e5-47ec-8dc2-21c1483ba242",
   "metadata": {},
   "source": [
    "### Model Evaluation\n",
    "\n",
    "Evaluate the model's accuracy, precision and recall. Analyse the confusion matrix.\n",
    "Give the setting of the problem, which metrics would you privilege?"
   ]
  },
  {
   "cell_type": "code",
   "execution_count": null,
   "id": "8a3a26af-011b-4f6f-9e34-cfdf185cd2c5",
   "metadata": {
    "scrolled": true
   },
   "outputs": [
    {
     "name": "stdout",
     "output_type": "stream",
     "text": [
      "Accuracy: 0.75\n",
      "Precision: 0.64\n",
      "Recall: 0.69\n",
      "F1-Score: 0.67\n",
      "\n",
      "Confusion Matrix Details:\n",
      "True Negatives: 78\n",
      "False Positives: 21\n",
      "False Negatives: 17\n",
      "True Positives: 38\n",
      "\n",
      "In this case, recall is crucial to minimize false negatives.\n"
     ]
    }
   ],
   "source": [
    "# your code here\n",
    "accuracy = accuracy_score(y_test, y_pred)\n",
    "print(f\"Accuracy: {accuracy:.2f}\")\n",
    "\n",
    "from sklearn.metrics import precision_score, recall_score, f1_score\n",
    "\n",
    "precision = precision_score(y_test, y_pred)\n",
    "recall = recall_score(y_test, y_pred)\n",
    "f1 = f1_score(y_test, y_pred)\n",
    "\n",
    "print(f\"Precision: {precision:.2f}\")\n",
    "print(f\"Recall: {recall:.2f}\")\n",
    "print(f\"F1-Score: {f1:.2f}\")\n",
    "\n",
    "true_negatives, false_positives, false_negatives, true_positives = confusion_matrix(y_test, y_pred).ravel()\n",
    "\n",
    "print(\"\\nConfusion Matrix Details:\")\n",
    "print(f\"True Negatives: {true_negatives}\")\n",
    "print(f\"False Positives: {false_positives}\")\n",
    "print(f\"False Negatives: {false_negatives}\")\n",
    "print(f\"True Positives: {true_positives}\")\n",
    "\n",
    "\n",
    "print(\"\\nIn this case, recall is crucial to minimize false negatives.\")\n",
    "\n"
   ]
  },
  {
   "cell_type": "markdown",
   "id": "d028fb89-4f57-4f8d-a714-f369ab0b5911",
   "metadata": {},
   "source": [
    "### Exploring Log Probabilities in Naïve Bayes\n",
    "\n",
    "Naive Bayes calculates log probabilities (logprobs) for each class to make predictions. Let's use `predict_log_proba` to calculate the log probabilities for each class (diabetes vs. no diabetes) for a few samples in the test set.\n",
    "\n",
    "Question: For a given instance in the test set, calculate the log probabilities for each class (diabetes vs. no diabetes) and interpret the values. How does Naive Bayes decide the predicted class based on these log probabilities?"
   ]
  },
  {
   "cell_type": "code",
   "execution_count": null,
   "id": "3478981e-3183-4ba3-8226-f27b7d86639e",
   "metadata": {},
   "outputs": [
    {
     "name": "stdout",
     "output_type": "stream",
     "text": [
      "Sample 0 - Log Probabilities:\n",
      "No Diabetes (0): -0.2415, Diabetes (1): -1.5391\n",
      "Predicted Class: 0\n",
      "\n",
      "Sample 1 - Log Probabilities:\n",
      "No Diabetes (0): -0.0728, Diabetes (1): -2.6562\n",
      "Predicted Class: 0\n",
      "\n",
      "Sample 12 - Log Probabilities:\n",
      "No Diabetes (0): -0.9818, Diabetes (1): -0.4694\n",
      "Predicted Class: 1\n",
      "\n"
     ]
    }
   ],
   "source": [
    "log_probs = model.predict_log_proba(X_sample)\n",
    "\n",
    "for i, index in enumerate(sample_indices):\n",
    "    print(f\"Sample {index} - Log Probabilities:\")\n",
    "    print(f\"No Diabetes (0): {log_probs[i][0]:.4f}, Diabetes (1): {log_probs[i][1]:.4f}\")\n",
    "    print(f\"Predicted Class: {model.predict(X_sample.iloc[[i]])[0]}\")\n",
    "    print()\n"
   ]
  },
  {
   "cell_type": "markdown",
   "id": "929a2b08-fa53-4edd-81e3-347351cc7fcb",
   "metadata": {},
   "source": [
    "- Interpretation of Log Probabilities: Log probabilities represent the logarithm of the probability for each class. A higher log probability (closer to zero, since log values are negative) indicates a higher likelihood for that class.\n",
    "- Decision-Making: The model predicts the class with the highest log probability. If the log probability for Diabetes (1) is higher (closer to zero) than for No Diabetes (0), the model will predict Diabetes (1).\n",
    "\n",
    "Convert log probabilities back to regular probabilities using np.exp(log_probs) to see how log transformations aid computation without changing predictions."
   ]
  },
  {
   "cell_type": "code",
   "execution_count": null,
   "id": "0ebdc252-3f81-4c6e-801c-addcad261528",
   "metadata": {},
   "outputs": [
    {
     "name": "stdout",
     "output_type": "stream",
     "text": [
      "Sample 0 - Log Probabilities:\n",
      "No Diabetes (0): -0.2415, Diabetes (1): -1.5391\n",
      "Converted Probabilities:\n",
      "No Diabetes (0): 0.7854, Diabetes (1): 0.2146\n",
      "Predicted Class: 0\n",
      "\n",
      "Sample 1 - Log Probabilities:\n",
      "No Diabetes (0): -0.0728, Diabetes (1): -2.6562\n",
      "Converted Probabilities:\n",
      "No Diabetes (0): 0.9298, Diabetes (1): 0.0702\n",
      "Predicted Class: 0\n",
      "\n",
      "Sample 12 - Log Probabilities:\n",
      "No Diabetes (0): -0.9818, Diabetes (1): -0.4694\n",
      "Converted Probabilities:\n",
      "No Diabetes (0): 0.3746, Diabetes (1): 0.6254\n",
      "Predicted Class: 1\n",
      "\n"
     ]
    }
   ],
   "source": [
    "import numpy as np\n",
    "\n",
    "sample_indices = [0, 1, 12]  \n",
    "X_sample = X_test.iloc[sample_indices]\n",
    "\n",
    "log_probs = model.predict_log_proba(X_sample)\n",
    "\n",
    "probs = np.exp(log_probs)\n",
    "\n",
    "for i, index in enumerate(sample_indices):\n",
    "    print(f\"Sample {index} - Log Probabilities:\")\n",
    "    print(f\"No Diabetes (0): {log_probs[i][0]:.4f}, Diabetes (1): {log_probs[i][1]:.4f}\")\n",
    "    print(f\"Converted Probabilities:\")\n",
    "    print(f\"No Diabetes (0): {probs[i][0]:.4f}, Diabetes (1): {probs[i][1]:.4f}\")\n",
    "    \n",
    "    input_with_features = X_sample.iloc[[i]]\n",
    "    print(f\"Predicted Class: {model.predict(input_with_features)[0]}\")\n",
    "    print()\n",
    "\n",
    "\n"
   ]
  },
  {
   "cell_type": "markdown",
   "id": "d8ba72a4-28b9-46ce-954d-4a58f31f2c2e",
   "metadata": {},
   "source": [
    "Change your decision treshold so that either class 1 or 0 becomes more frequent in order to optimize your preferred metric (precision or recall) for this problem. Try multiple tresholds until you are satisfied with your choice."
   ]
  },
  {
   "cell_type": "code",
   "execution_count": null,
   "id": "9ec8a538",
   "metadata": {},
   "outputs": [
    {
     "name": "stdout",
     "output_type": "stream",
     "text": [
      "   index  no_diab_prob  diab_prob  prediction\n",
      "0    668      0.785426   0.214574           0\n",
      "1    324      0.929784   0.070216           0\n",
      "2    624      0.981480   0.018520           0\n",
      "3    690      0.848221   0.151779           0\n",
      "4    473      0.451266   0.548734           1\n"
     ]
    }
   ],
   "source": [
    "from sklearn.metrics import confusion_matrix\n",
    "\n",
    "threshold = 0.5 \n",
    "\n",
    "\n",
    "log_probs = model.predict_log_proba(X_test)\n",
    "\n",
    "probabilities = []\n",
    "for i, index in enumerate(X_test.index):\n",
    "    no_diabetes_prob = np.exp(log_probs[i][0])\n",
    "    diabetes_prob = np.exp(log_probs[i][1])\n",
    "    \n",
    "    prediction = 0 if no_diabetes_prob >= threshold else 1\n",
    "    \n",
    "    probabilities.append({\n",
    "        'index': index,\n",
    "        'no_diab_prob': no_diabetes_prob,\n",
    "        'diab_prob': diabetes_prob,\n",
    "        'prediction': prediction\n",
    "    })\n",
    "\n",
    "probabilities = pd.DataFrame(probabilities)\n",
    "\n",
    "print(probabilities.head())"
   ]
  },
  {
   "cell_type": "code",
   "execution_count": null,
   "id": "d20c0f78",
   "metadata": {},
   "outputs": [],
   "source": [
    "from sklearn.metrics import confusion_matrix\n",
    "\n",
    "threshold = 0.5 \n",
    "\n",
    "\n",
    "log_probs = model.predict_log_proba(X_test)\n",
    "\n",
    "probabilities = []\n",
    "for i, index in enumerate(X_test.index):\n",
    "    no_diabetes_prob = np.exp(log_probs[i][0])\n",
    "    diabetes_prob = np.exp(log_probs[i][1])\n",
    "    \n",
    "    prediction = 0 if no_diabetes_prob >= threshold else 1\n",
    "    \n",
    "    probabilities.append({\n",
    "        'index': index,\n",
    "        'no_diab_prob': no_diabetes_prob,\n",
    "        'diab_prob': diabetes_prob,\n",
    "        'prediction': prediction\n",
    "    })\n",
    "\n",
    "probabilities = pd.DataFrame(probabilities)\n",
    "\n",
    "print(probabilities.head())"
   ]
  },
  {
   "cell_type": "code",
   "execution_count": null,
   "id": "2e08d565-3d2c-4420-a9d8-9b166d6f3285",
   "metadata": {},
   "outputs": [
    {
     "data": {
      "image/png": "[encoded data removed]",
      "text/plain": [
       "<Figure size 640x480 with 2 Axes>"
      ]
     },
     "metadata": {},
     "output_type": "display_data"
    }
   ],
   "source": [
    "y_pred_adjusted = probabilities['prediction']\n",
    "cm = confusion_matrix(y_test, y_pred_adjusted)\n",
    "\n",
    "sns.heatmap(cm, annot=True, fmt='d', cmap='Blues', xticklabels=['No Diabetes', 'Diabetes'], yticklabels=['No Diabetes', 'Diabetes'])\n",
    "plt.xlabel(\"Predicted Label\")\n",
    "plt.ylabel(\"True Label\")\n",
    "plt.title(\"Confusion Matrix\")\n",
    "plt.show()"
   ]
  },
  {
   "cell_type": "code",
   "execution_count": null,
   "id": "a668fd87",
   "metadata": {},
   "outputs": [
    {
     "data": {
      "image/png": "[encoded data removed]",
      "text/plain": [
       "<Figure size 640x480 with 2 Axes>"
      ]
     },
     "metadata": {},
     "output_type": "display_data"
    }
   ],
   "source": [
    "from sklearn.metrics import confusion_matrix\n",
    "import seaborn as sns\n",
    "import matplotlib.pyplot as plt\n",
    "\n",
    "threshold = 0.6  # Change this to test different thresholds\n",
    "\n",
    "probabilities['prediction'] = probabilities['diab_prob'].apply(lambda x: 1 if x >= threshold else 0)\n",
    "\n",
    "cm = confusion_matrix(y_test, probabilities['prediction'])\n",
    "\n",
    "sns.heatmap(cm, annot=True, fmt='d', cmap='Blues', xticklabels=['No Diabetes', 'Diabetes'], yticklabels=['No Diabetes', 'Diabetes'])\n",
    "plt.xlabel(\"Predicted Label\")\n",
    "plt.ylabel(\"True Label\")\n",
    "plt.title(f\"Confusion Matrix (Threshold = {threshold})\")\n",
    "plt.show()\n",
    "\n"
   ]
  }
 ],
 "metadata": {
  "kernelspec": {
   "display_name": "Python 3",
   "language": "python",
   "name": "python3"
  },
  "language_info": {
   "codemirror_mode": {
    "name": "ipython",
    "version": 3
   },
   "file_extension": ".py",
   "mimetype": "text/x-python",
   "name": "python",
   "nbconvert_exporter": "python",
   "pygments_lexer": "ipython3",
   "version": "3.12.7"
  }
 },
 "nbformat": 4,
 "nbformat_minor": 5
}
